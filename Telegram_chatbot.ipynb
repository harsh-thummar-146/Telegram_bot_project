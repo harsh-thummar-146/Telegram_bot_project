{
  "nbformat": 4,
  "nbformat_minor": 0,
  "metadata": {
    "colab": {
      "name": "Telegram_chatbot.ipynb",
      "provenance": [],
      "authorship_tag": "ABX9TyNYdiqBrrMrH+aKOWpVugjM",
      "include_colab_link": true
    },
    "kernelspec": {
      "display_name": "Python 3",
      "name": "python3"
    },
    "language_info": {
      "name": "python"
    }
  },
  "cells": [
    {
      "cell_type": "markdown",
      "metadata": {
        "id": "view-in-github",
        "colab_type": "text"
      },
      "source": [
        "<a href=\"https://colab.research.google.com/github/harsh-thummar-146/Telegram_bot_project/blob/main/Telegram_chatbot.ipynb\" target=\"_parent\"><img src=\"https://colab.research.google.com/assets/colab-badge.svg\" alt=\"Open In Colab\"/></a>"
      ]
    },
    {
      "cell_type": "code",
      "metadata": {
        "id": "GIRaeEpDUWp8"
      },
      "source": [
        "!pip install adafruit-io --quiet"
      ],
      "execution_count": 9,
      "outputs": []
    },
    {
      "cell_type": "code",
      "metadata": {
        "id": "bmemhCUtUbIq",
        "colab": {
          "base_uri": "https://localhost:8080/"
        },
        "outputId": "0bcdac0f-990d-4857-9e29-3e69d25e5558"
      },
      "source": [
        "# Import library and create instance of REST client.\n",
        "from Adafruit_IO import Client\n",
        "aio = Client('harsh_thummar', 'aio_HaPT113aHuzqObqhGD854B11CO8y')\n",
        "\n",
        "# Send the value 100 to a feed called 'Foo'.\n",
        "aio.send('light', 0)\n",
        "aio.send('fan',0)\n",
        "\n",
        "# Retrieve the most recent value from the feed 'Foo'.\n",
        "# Access the value by reading the `value` property on the returned Data object.\n",
        "# Note that all values retrieved from IO are strings so you might need to convert\n",
        "# them to an int or numeric type if you expect a number.\n",
        "data1 = aio.receive('light')\n",
        "data2 = aio.receive('fan')\n",
        "print(f'Received value: {data1.value}')\n",
        "print(f'Received value: {data2.value}')"
      ],
      "execution_count": 10,
      "outputs": [
        {
          "output_type": "stream",
          "name": "stdout",
          "text": [
            "Received value: 0\n",
            "Received value: 0\n"
          ]
        }
      ]
    },
    {
      "cell_type": "code",
      "metadata": {
        "id": "EpHy1KtHWCwd"
      },
      "source": [
        "## Telegram\n",
        "!pip install python-telegram-bot==13.0 --quiet"
      ],
      "execution_count": 11,
      "outputs": []
    },
    {
      "cell_type": "code",
      "metadata": {
        "id": "rVBWmfI2XAQ0"
      },
      "source": [
        "from Adafruit_IO import Client\n",
        "from telegram.ext import Updater,MessageHandler,Filters\n",
        "\n",
        "def demo1(bot,update):\n",
        "  chat_id = bot.message.chat_id\n",
        "  path= 'https://previews.123rf.com/images/murika/murika1511/murika151100069/48123160-bright-glowing-incandescent-light-bulb-on-a-white-background.jpg'\n",
        "  bot.message.reply_text('Light Turned ON')\n",
        "  update.bot.sendPhoto(chat_id=chat_id,photo=path)\n",
        "def demo2(bot,update):\n",
        "  chat_id = bot.message.chat_id\n",
        "  path= 'https://previews.123rf.com/images/ericmilos/ericmilos0912/ericmilos091200136/6109526-3d-render-of-light-bulb-on-white.jpg'\n",
        "  bot.message.reply_text('Light Turned OFF')\n",
        "  update.bot.sendPhoto(chat_id=chat_id,photo=path)\n",
        "def demo3(bot,update):\n",
        "  chat_id = bot.message.chat_id\n",
        "  path= 'https://thumbs.dreamstime.com/b/spinning-gray-ceiling-fan-picture-summer-134473260.jpg'\n",
        "  bot.message.reply_text('Fan Turned ON')\n",
        "  update.bot.sendPhoto(chat_id=chat_id,photo=path)\n",
        "def demo4(bot,update):\n",
        "  chat_id = bot.message.chat_id\n",
        "  path= 'https://images-na.ssl-images-amazon.com/images/I/412QHDSQB1L._SL1000_.jpg'\n",
        "  bot.message.reply_text('Fan Turned OFF')\n",
        "  update.bot.sendPhoto(chat_id=chat_id,photo=path)\n",
        "def func1(bot,update):\n",
        "  a=bot.message.text.lower()\n",
        "  a = a.split()\n",
        "  if 'on'in a:\n",
        "    if 'light' in a:\n",
        "       demo1(bot,update)\n",
        "       aio.send('light', 1)\n",
        "    elif 'fan' in a:\n",
        "       demo3(bot,update)\n",
        "       aio.send('fan', 1)\n",
        "  elif 'off'in a:\n",
        "     if 'light' in a:\n",
        "       demo2(bot,update)\n",
        "       aio.send('light', 0)\n",
        "     elif 'fan' in a:\n",
        "       demo4(bot,update)\n",
        "       aio.send('fan', 0)\n",
        "  else:\n",
        "    bot.message.reply_text('invalid text')\n",
        "\n",
        "aio = Client('harsh_thummar', 'aio_HaPT113aHuzqObqhGD854B11CO8y')\n",
        "BOT_TOKEN = '1946645481:AAHtWnIjIbO6w7gz8SryKB3ya8KePDBqJT0'\n",
        "u = Updater(BOT_TOKEN,use_context=True)\n",
        "dp = u.dispatcher\n",
        "dp.add_handler(MessageHandler(Filters.text,func1))\n",
        "u.start_polling()\n",
        "u.idle()"
      ],
      "execution_count": null,
      "outputs": []
    },
    {
      "cell_type": "code",
      "metadata": {
        "id": "1IoPYoNCYILG"
      },
      "source": [
        ""
      ],
      "execution_count": 11,
      "outputs": []
    }
  ]
}